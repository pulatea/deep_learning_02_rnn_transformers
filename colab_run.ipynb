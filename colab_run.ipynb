{
 "cells": [
  {
   "cell_type": "markdown",
   "source": [
    "## Mount your Google Drive"
   ],
   "metadata": {
    "id": "E8stMOPpHPzN"
   }
  },
  {
   "cell_type": "code",
   "source": [
    "from google.colab import drive\n",
    "drive.mount(\"/content/drive/\", force_remount=True)"
   ],
   "metadata": {
    "id": "8U4IYUjHGq3Y",
    "ExecuteTime": {
     "end_time": "2024-05-20T12:31:28.605146Z",
     "start_time": "2024-05-20T12:31:28.413479Z"
    }
   },
   "execution_count": 1,
   "outputs": [
    {
     "ename": "ModuleNotFoundError",
     "evalue": "No module named 'google.colab'",
     "output_type": "error",
     "traceback": [
      "\u001B[0;31m---------------------------------------------------------------------------\u001B[0m",
      "\u001B[0;31mModuleNotFoundError\u001B[0m                       Traceback (most recent call last)",
      "Cell \u001B[0;32mIn[1], line 1\u001B[0m\n\u001B[0;32m----> 1\u001B[0m \u001B[38;5;28;01mfrom\u001B[39;00m \u001B[38;5;21;01mgoogle\u001B[39;00m\u001B[38;5;21;01m.\u001B[39;00m\u001B[38;5;21;01mcolab\u001B[39;00m \u001B[38;5;28;01mimport\u001B[39;00m drive\n\u001B[1;32m      2\u001B[0m drive\u001B[38;5;241m.\u001B[39mmount(\u001B[38;5;124m\"\u001B[39m\u001B[38;5;124m/content/drive/\u001B[39m\u001B[38;5;124m\"\u001B[39m, force_remount\u001B[38;5;241m=\u001B[39m\u001B[38;5;28;01mTrue\u001B[39;00m)\n",
      "\u001B[0;31mModuleNotFoundError\u001B[0m: No module named 'google.colab'"
     ]
    }
   ]
  },
  {
   "cell_type": "markdown",
   "source": [
    "## Unzip"
   ],
   "metadata": {
    "id": "gunPb2YscvNc"
   }
  },
  {
   "cell_type": "code",
   "source": [
    "import os"
   ],
   "metadata": {
    "id": "-cfG_nCafYg_"
   },
   "execution_count": null,
   "outputs": []
  },
  {
   "cell_type": "code",
   "source": [
    "if not os.path.exists(\"/content/drive/MyDrive/assignment_2\"):\n",
    "    !unzip /content/drive/MyDrive/assignment_2.zip -d /content/drive/MyDrive/"
   ],
   "metadata": {
    "id": "qsukaeg4hGL7"
   },
   "execution_count": null,
   "outputs": []
  },
  {
   "cell_type": "code",
   "execution_count": null,
   "metadata": {
    "id": "170mdB5D--bf"
   },
   "outputs": [],
   "source": [
    "if not os.path.exists(\"/content/drive/MyDrive/assignment_2/flickr8k\"):\n",
    "    !unzip /content/drive/MyDrive/flickr8k.zip -d /content/drive/MyDrive/assignment_2"
   ]
  },
  {
   "cell_type": "markdown",
   "source": [
    "## Verify whether you have a GPU"
   ],
   "metadata": {
    "id": "xTox3f2RlM5Y"
   }
  },
  {
   "cell_type": "code",
   "source": [
    "!nvidia-smi"
   ],
   "metadata": {
    "id": "520u3SZyljkX"
   },
   "execution_count": null,
   "outputs": []
  },
  {
   "cell_type": "markdown",
   "source": [
    "## Install Libraries"
   ],
   "metadata": {
    "id": "Y5YomiZCdBmH"
   }
  },
  {
   "cell_type": "code",
   "source": [
    "!pip install einops\n",
    "!pip install wandb"
   ],
   "metadata": {
    "id": "QayBvtVptqQw"
   },
   "execution_count": null,
   "outputs": []
  },
  {
   "cell_type": "markdown",
   "source": [
    "## Run the Code"
   ],
   "metadata": {
    "id": "xBNxjenFDPon"
   }
  },
  {
   "cell_type": "code",
   "execution_count": null,
   "metadata": {
    "id": "GR1CrKgnJCH8"
   },
   "outputs": [],
   "source": [
    "%cd \"/content/drive/MyDrive/assignment_2\""
   ]
  },
  {
   "cell_type": "code",
   "execution_count": null,
   "metadata": {
    "id": "kt3oExssGfJZ"
   },
   "outputs": [],
   "source": [
    "!python train.py --device-id=0 --num-workers=0 --config-file-path=./configs/config_model_1.yaml \\\n",
    "--experiment-name=model_1 --num-epochs=2 --no-log"
   ]
  }
 ],
 "metadata": {
  "colab": {
   "provenance": [],
   "gpuType": "T4",
   "collapsed_sections": [
    "E8stMOPpHPzN",
    "gunPb2YscvNc",
    "xTox3f2RlM5Y",
    "Y5YomiZCdBmH",
    "xBNxjenFDPon"
   ],
   "mount_file_id": "1eKbCNrGjjOl4T41OceUcchmn-85f5KOp",
   "authorship_tag": "ABX9TyPV3J19xeN/8WB2LcoD58aJ"
  },
  "kernelspec": {
   "name": "python3",
   "language": "python",
   "display_name": "Python 3 (ipykernel)"
  },
  "language_info": {
   "name": "python"
  },
  "accelerator": "GPU"
 },
 "nbformat": 4,
 "nbformat_minor": 0
}
